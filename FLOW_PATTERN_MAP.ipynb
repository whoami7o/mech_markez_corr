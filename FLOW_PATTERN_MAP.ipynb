{
 "cells": [
  {
   "cell_type": "code",
   "execution_count": 1,
   "id": "25f55c0a",
   "metadata": {},
   "outputs": [],
   "source": [
    "# import block\n",
    "from unifloc.pvt.fluid_flow import FluidFlow\n",
    "from unifloc.equipment.natural_separation import NaturalSeparation\n",
    "import math\n",
    "import matplotlib.pyplot as plt\n",
    "import numpy as np\n",
    "from scipy.optimize import fsolve\n",
    "from tqdm import tqdm"
   ]
  },
  {
   "cell_type": "markdown",
   "id": "631e5cd6",
   "metadata": {},
   "source": [
    "# PVT Properties"
   ]
  },
  {
   "cell_type": "code",
   "execution_count": 2,
   "id": "ba4909d0",
   "metadata": {},
   "outputs": [],
   "source": [
    "# Инициализация исходных данных класса FluidFlow\n",
    "q_fluid = 100 / 86400\n",
    "wct = 0\n",
    "pvt_model_data = {'black_oil': {'gamma_gas': 0.7, 'gamma_wat': 1, 'gamma_oil': 0.8,\n",
    "                                'rp': 50,\n",
    "                                'oil_correlations':\n",
    "                                 {'pb': 'Standing', 'rs': 'Standing',\n",
    "                                  'rho': 'Standing','b': 'Standing',\n",
    "                                  'mu': 'Beggs', 'compr': 'Vasquez'},\n",
    "                    'gas_correlations': {'ppc': 'Standing', 'tpc': 'Standing',\n",
    "                                         'z': 'Dranchuk', 'mu': 'Lee'},\n",
    "                    'water_correlations': {'b': 'McCain', 'compr': 'Kriel',\n",
    "                                           'rho': 'Standing', 'mu': 'McCain'},\n",
    "                    'rsb': {'value': 50, 'p': 10000000, 't': 303.15},\n",
    "                    'muob': {'value': 0.5, 'p': 10000000, 't': 303.15},\n",
    "                    'bob': {'value': 1.5, 'p': 10000000, 't': 303.15},\n",
    "                    'table_model_data': None, 'use_table_model': False}}\n",
    "\n",
    "# Инициализация исходных данных метода расчета pvt-свойств флюидов\n",
    "p = 4 * (10 ** 6)\n",
    "t = 350"
   ]
  },
  {
   "cell_type": "code",
   "execution_count": 3,
   "id": "92c11c9a",
   "metadata": {},
   "outputs": [],
   "source": [
    "# Инициализация объекта pvt-модели\n",
    "fluid_flow = FluidFlow(q_fluid, wct, pvt_model_data)\n",
    "\n",
    "# Пересчет всех свойств для данного давления и температуры\n",
    "fluid_flow.calc_flow(p, t)"
   ]
  },
  {
   "cell_type": "code",
   "execution_count": 4,
   "id": "155619ec",
   "metadata": {},
   "outputs": [
    {
     "name": "stdout",
     "output_type": "stream",
     "text": [
      "dens_l =  685.2 кг/м3\n",
      "dens_g =  29.4 кг/м3\n",
      "sigma =  0.018 Н/м\n",
      "mu_l =  0.491 сПз\n",
      "q_l =  0.00137 м3/с\n",
      "q_g =  0.00122 м3/с\n",
      "\n"
     ]
    }
   ],
   "source": [
    "print(f'dens_l = {fluid_flow.rl: .1f} кг/м3\\n'\n",
    "      f'dens_g = {fluid_flow.rg: .1f} кг/м3\\n'\n",
    "      f'sigma = {fluid_flow.stlg: .3f} Н/м\\n'\n",
    "      f'mu_l = {fluid_flow.mul: .3f} сПз\\n'\n",
    "      f'q_l = {fluid_flow.ql: .5f} м3/с\\n'\n",
    "      f'q_g = {fluid_flow.qg: .5f} м3/с\\n'\n",
    "     )"
   ]
  },
  {
   "cell_type": "code",
   "execution_count": 5,
   "id": "43862937",
   "metadata": {},
   "outputs": [],
   "source": [
    "# Инициализация исходных данных\n",
    "h_mes_ = 1800\n",
    "d_tub = 0.063\n",
    "d_cas = 0.130\n",
    "q_fluid = fluid_flow.ql\n",
    "q_gas = fluid_flow.qg\n",
    "sigma_l = fluid_flow.stlg\n",
    "rho_liq = fluid_flow.rl\n",
    "rho_gas = fluid_flow.rg"
   ]
  },
  {
   "cell_type": "markdown",
   "id": "609d8359",
   "metadata": {},
   "source": [
    "## General use functions"
   ]
  },
  {
   "cell_type": "code",
   "execution_count": 6,
   "id": "93ea0903",
   "metadata": {},
   "outputs": [],
   "source": [
    "def v_S(qi: float, r_c: float, r_p: float) -> float:\n",
    "    return qi / (math.pi * (r_c**2 - r_p**2))"
   ]
  },
  {
   "cell_type": "code",
   "execution_count": 7,
   "id": "b1e7e550",
   "metadata": {},
   "outputs": [
    {
     "name": "stdout",
     "output_type": "stream",
     "text": [
      "v_s =  0.191 m/s\n"
     ]
    }
   ],
   "source": [
    "def v_s(dens_l: float, dens_g: float, sigma_l: float, g=9.81) -> float:\n",
    "    # slip or bubble rise velocity\n",
    "    return 1.53 * (g * sigma_l * (dens_l - dens_g)/(dens_l**2))**(1/4)\n",
    "\n",
    "# test\n",
    "print(f'v_s = {v_s(rho_liq, rho_gas, sigma_l) : .3f} m/s')"
   ]
  },
  {
   "cell_type": "markdown",
   "id": "b1b5e67f",
   "metadata": {},
   "source": [
    "# Transition A"
   ]
  },
  {
   "cell_type": "code",
   "execution_count": 8,
   "id": "e9f50c76",
   "metadata": {},
   "outputs": [],
   "source": [
    "def trans_A(v_Sl: float, v_s: float) -> float:\n",
    "    # v_Sg = f(v_Sl)\n",
    "    return v_Sl/4 + 0.20 * v_s"
   ]
  },
  {
   "cell_type": "markdown",
   "id": "cbeab50b",
   "metadata": {},
   "source": [
    "### Points for Graph"
   ]
  },
  {
   "cell_type": "code",
   "execution_count": 9,
   "id": "edaa8f9a",
   "metadata": {},
   "outputs": [],
   "source": [
    "v_Sliq = np.arange(0, 100, 1/1000)\n",
    "v_Sliq_for_A = v_Sliq\n",
    "v_Sgas_for_A = trans_A(v_Sliq, v_s(rho_liq, rho_gas, sigma_l))"
   ]
  },
  {
   "cell_type": "markdown",
   "id": "7d8114e5",
   "metadata": {},
   "source": [
    "# Transition B"
   ]
  },
  {
   "cell_type": "markdown",
   "id": "f72a269a",
   "metadata": {},
   "source": [
    "### Function for Reynolds number"
   ]
  },
  {
   "cell_type": "code",
   "execution_count": 10,
   "id": "c15decaf",
   "metadata": {},
   "outputs": [
    {
     "name": "stdout",
     "output_type": "stream",
     "text": [
      "Re =  24176.27\n"
     ]
    }
   ],
   "source": [
    "def re_number(dens_mix: float, v_M: float, d_h: float, mu_mix: float) -> float:\n",
    "    return dens_mix * v_M * d_h / mu_mix\n",
    "\n",
    "# test\n",
    "mu_mix = fluid_flow.mum * 10**(-3)  # Pa * s\n",
    "d_h = d_cas - d_tub\n",
    "q_mix = fluid_flow.qm\n",
    "dens_mix = fluid_flow.rm\n",
    "\n",
    "print(f'Re = {re_number(dens_mix, v_S(q_mix, d_cas/2, d_tub/2), d_h, mu_mix): .2f}')"
   ]
  },
  {
   "cell_type": "markdown",
   "id": "20fac98a",
   "metadata": {},
   "source": [
    "### Function for Friction Geometry Number"
   ]
  },
  {
   "cell_type": "code",
   "execution_count": 11,
   "id": "9c6dbaea",
   "metadata": {},
   "outputs": [
    {
     "name": "stdout",
     "output_type": "stream",
     "text": [
      "f_ea = 22.38365369955195\n"
     ]
    }
   ],
   "source": [
    "def find_f_ea(k, eccentricity):\n",
    "    cosh_eta_i = (k*(1+eccentricity**2) + (1-eccentricity**2))/(2*k*eccentricity)\n",
    "    cosh_eta_0 = (k*(1-eccentricity**2) + (1+eccentricity**2))/(2*eccentricity)\n",
    "        \n",
    "    eta_i = math.acosh(cosh_eta_i)\n",
    "    eta_0 = math.acosh(cosh_eta_0)\n",
    "\n",
    "    inf_sum = 0\n",
    "    for n in range(1, 10**(5)):\n",
    "        try:\n",
    "            sum_n = 2*n / (math.exp(2*n*eta_i) - math.exp(2 * n * eta_0))\n",
    "        except (ZeroDivisionError,OverflowError):\n",
    "            break\n",
    "        else:\n",
    "            inf_sum += sum_n\n",
    "\n",
    "    A = 1/(eta_0 - eta_i) - 2 * inf_sum\n",
    "    \n",
    "    B = 1/4 * (1/(math.sinh(eta_0)**4) - 1/(math.sinh(eta_i)**4))\n",
    "\n",
    "    phi = (math.cosh(eta_i)/math.sinh(eta_i) - math.cosh(eta_0)/math.sinh(eta_0))**2 * A + B\n",
    "\n",
    "    f_ea = (4 * (1 - k**2) * (1 - k)**2) / (phi * (math.sinh(eta_0))**4)\n",
    "    \n",
    "    return f_ea\n",
    "\n",
    "\n",
    "print(f'f_ea = {find_f_ea(0.9, 0.000001)}')"
   ]
  },
  {
   "cell_type": "markdown",
   "id": "b04bb4ab",
   "metadata": {},
   "source": [
    "#### Graph for comparison"
   ]
  },
  {
   "cell_type": "code",
   "execution_count": 12,
   "id": "26b429dc",
   "metadata": {},
   "outputs": [
    {
     "name": "stderr",
     "output_type": "stream",
     "text": [
      "100%|████████████████████████████████████████████████████████████████████████████████| 998/998 [00:21<00:00, 46.38it/s]\n",
      "100%|████████████████████████████████████████████████████████████████████████████████████| 9/9 [00:00<00:00, 10.32it/s]\n",
      "100%|█████████████████████████████████████████████████████████████████████████████| 998/998 [00:00<00:00, 34373.61it/s]\n"
     ]
    },
    {
     "data": {
      "image/png": "[encoded data removed]",
      "text/plain": [
       "<Figure size 720x720 with 1 Axes>"
      ]
     },
     "metadata": {
      "needs_background": "light"
     },
     "output_type": "display_data"
    }
   ],
   "source": [
    "plt.figure(figsize=(10,10))\n",
    "k = list(np.arange(1/1000, 1 - 1/1000, 1/1000))\n",
    "\n",
    "# e = (0.1, 1)\n",
    "legend = []\n",
    "\n",
    "# e =  1\n",
    "f_ea_list = []\n",
    "for i in tqdm(k):\n",
    "    f_ea_list.append(find_f_ea(i, 0.99999))\n",
    "plt.plot(k, f_ea_list)\n",
    "legend.append(f'$e$ = {round(1, 1)}')\n",
    "\n",
    "for ecc in tqdm(np.arange(0.1, 1, 0.1)):\n",
    "    f_ea_list = []\n",
    "    for i in k:\n",
    "        f_ea_list.append(find_f_ea(i, ecc))\n",
    "    plt.plot(k, f_ea_list)\n",
    "    legend.append(f'$e$ = {round(ecc, 1)}')\n",
    "# print(f_ea_list)\n",
    "\n",
    "\n",
    "# e =  0\n",
    "f_ea_list = []\n",
    "for i in tqdm(k):\n",
    "    f_ea_list.append(find_f_ea(i, 0.01))\n",
    "plt.plot(k, f_ea_list)\n",
    "legend.append(f'$e$ = {round(0, 1)}')\n",
    "\n",
    "plt.legend(legend, fontsize=9)\n",
    "plt.xlabel('Annulus Pipe Diametr Ratio, k = $d_t$/$d_c$')\n",
    "# plt.xscale('log')\n",
    "plt.ylabel('Friction Geometry Factor')\n",
    "# plt.yscale('log')\n",
    "\n",
    "plt.grid(which='both', linewidth=0.3)\n",
    "\n",
    "plt.ylim([8, 28])\n",
    "plt.xlim([0, 1])\n",
    "plt.show()"
   ]
  },
  {
   "cell_type": "markdown",
   "id": "4566fe8f",
   "metadata": {},
   "source": [
    "### Function for Friction Factor"
   ]
  },
  {
   "cell_type": "code",
   "execution_count": 13,
   "id": "3d287258",
   "metadata": {},
   "outputs": [
    {
     "name": "stdout",
     "output_type": "stream",
     "text": [
      "\tconcentric\n",
      "laminar (r_e = 1300): f =  0.0183\n",
      "trubulent (r_e = 20000): f =  0.0024\n",
      "\n",
      "\teccentric\n",
      "laminar (r_e = 1300): f =  0.0098\n",
      "trubulent (r_e = 20000): f =  0.0018\n"
     ]
    }
   ],
   "source": [
    "def find_f(r_e: float,  k: float, eccentricity: float, ann_type: str) -> float:\n",
    "    f_p = 16  # const. value\n",
    "    \n",
    "    if ann_type == 'con':\n",
    "        f_ca = 16 * (1 - k)**2 /((1-k**4)/(1-k**2) - (1-k**2)/math.log(1/k))\n",
    "#         print(f'f_ca = {f_ca: .2f}')\n",
    "        \n",
    "        if r_e <=  2300:  # laminar flow           \n",
    "            return f_ca / r_e\n",
    "        \n",
    "        else:  # turbulent flow\n",
    "            func_for_f = lambda f: 1/(f*(f_p/f_ca)**(0.45*math.exp(-(r_e-3000)/10**(6))))**(1/2) - (4 * math.log(r_e * 1/(f*(f_p/f_ca)**(0.45*math.exp(-(r_e-3000)/10**(6))))**(1/2), 10) - 0.4)\n",
    "            return fsolve(func_for_f, 10**(-4))[0]\n",
    "        \n",
    "    elif ann_type == 'ecc':\n",
    "        f_ea = find_f_ea(k, eccentricity)\n",
    "#         print(f'f_ea = {f_ea: .2f}')\n",
    "        \n",
    "        if r_e <=  2300:  # laminar flow\n",
    "            return f_ea / r_e\n",
    "        \n",
    "        else:  # turbulent flow\n",
    "            func_for_f = lambda f: 1/(f*(f_p/f_ea)**(0.45*math.exp(-(r_e-3000)/10**(6))))**(1/2) - (4 * math.log(r_e * 1/(f*(f_p/f_ea)**(0.45*math.exp(-(r_e-3000)/10**(6))))**(1/2), 10) - 0.4)\n",
    "            return fsolve(func_for_f, 10**(-4))[0]\n",
    "    else:\n",
    "        return 'Err'\n",
    "    \n",
    "# test\n",
    "print('\\tconcentric')\n",
    "print(f'laminar (r_e = 1300): f = {find_f(1300, d_tub/d_cas, 0, ann_type=\"con\"): .4f}')\n",
    "print(f'trubulent (r_e = 20000): f = {find_f(20000, d_tub/d_cas, 0, ann_type=\"con\"): .4f}')\n",
    "\n",
    "print('\\n\\teccentric')\n",
    "print(f'laminar (r_e = 1300): f = {find_f(1300, d_tub/d_cas, 0.8, ann_type=\"ecc\"): .4f}')\n",
    "print(f'trubulent (r_e = 20000): f = {find_f(20000, d_tub/d_cas, 0.8, ann_type=\"ecc\"): .4f}')"
   ]
  },
  {
   "cell_type": "markdown",
   "id": "059a6018",
   "metadata": {},
   "source": [
    "#### Graph for comparison"
   ]
  },
  {
   "cell_type": "code",
   "execution_count": 14,
   "id": "e3eeb547",
   "metadata": {},
   "outputs": [
    {
     "name": "stderr",
     "output_type": "stream",
     "text": [
      "100%|██████████████████████████████████████████████████████████████████████████| 10000/10000 [00:04<00:00, 2161.33it/s]\n"
     ]
    }
   ],
   "source": [
    "re_number_list = list(np.arange(10, 10**6, 100))\n",
    "\n",
    "f_con_list = []\n",
    "f_pipe_list = []\n",
    "\n",
    "for re_n in tqdm(re_number_list):\n",
    "    f_con_list.append(find_f(re_n, 0.553, 0.8, ann_type=\"con\"))\n",
    "    f_pipe_list.append(find_f(re_n, 0.553, 0.6, ann_type=\"ecc\"))"
   ]
  },
  {
   "cell_type": "code",
   "execution_count": 15,
   "id": "5cea2898",
   "metadata": {},
   "outputs": [
    {
     "name": "stderr",
     "output_type": "stream",
     "text": [
      "100%|███████████████████████████████████████████████████████████████████████████| 10000/10000 [00:25<00:00, 395.04it/s]\n"
     ]
    }
   ],
   "source": [
    "f_ecc_list = []\n",
    "for re_n in tqdm(re_number_list):\n",
    "    f_ecc_list.append(find_f(re_n, 0.553, 0.999, ann_type=\"ecc\"))"
   ]
  },
  {
   "cell_type": "code",
   "execution_count": 16,
   "id": "66b34927",
   "metadata": {},
   "outputs": [
    {
     "data": {
      "image/png": "[encoded data removed]",
      "text/plain": [
       "<Figure size 720x720 with 1 Axes>"
      ]
     },
     "metadata": {
      "needs_background": "light"
     },
     "output_type": "display_data"
    }
   ],
   "source": [
    "plt.figure(figsize=(10,10))\n",
    "    \n",
    "plt.plot(re_number_list, f_con_list, 'r--')\n",
    "plt.plot(re_number_list, f_ecc_list, 'b-.')\n",
    "plt.plot(re_number_list, f_pipe_list, 'g')\n",
    "\n",
    "plt.legend(['fully concentric, $k$ = 0.553', 'fully eccentric, $k$ = 0.553', 'e=0.6, $k$ = 0.553'], fontsize=10)\n",
    "plt.xlabel('Reynolds number, $Re$')\n",
    "plt.xscale('log')\n",
    "plt.ylabel('Friction Factor, $f$')\n",
    "plt.yscale('log')\n",
    "\n",
    "plt.grid(which='both', linewidth=0.3)\n",
    "\n",
    "plt.ylim([10**(-3), 10**(-1)])\n",
    "plt.xlim([10**(2), 10**(6)])\n",
    "plt.show()"
   ]
  },
  {
   "cell_type": "markdown",
   "id": "4a286467",
   "metadata": {},
   "source": [
    "### Trans. Equation"
   ]
  },
  {
   "cell_type": "code",
   "execution_count": 17,
   "id": "db23cfaf",
   "metadata": {},
   "outputs": [],
   "source": [
    "def trans_B(dens_l: float, dens_g: float, sigma_l: float, v_M: float, f: float, d_h: float, g=9.81) -> float:\n",
    "    # v_Sg = f(v_M)\n",
    "    # d_h = d_c - d_t\n",
    "    A = 2 * (0.4 * sigma_l / ((dens_l-dens_g)*g))**(1/2) * (dens_l/sigma_l)**(3/5) * (2/d_h)**(2/5) * f**(2/5)\n",
    "    B = ((A) * v_M**(6/5) - 0.725)/4.15\n",
    "    return v_M * (B)**2"
   ]
  },
  {
   "cell_type": "markdown",
   "id": "f6e8b1f3",
   "metadata": {},
   "source": [
    "### Points for Graph"
   ]
  },
  {
   "cell_type": "code",
   "execution_count": 34,
   "id": "2750b2ee",
   "metadata": {},
   "outputs": [
    {
     "name": "stdout",
     "output_type": "stream",
     "text": [
      "10000\n"
     ]
    }
   ],
   "source": [
    "k = d_tub/d_cas\n",
    "r_c = d_cas/2\n",
    "r_t = d_tub/2\n",
    "d_h = d_cas - d_tub\n",
    "\n",
    "v_Sliq = np.arange(0.001, 100, 1/100)\n",
    "v_Sliq_new_for_B = []\n",
    "v_Sgas_for_B = []\n",
    "\n",
    "for v in v_Sliq:\n",
    "    q_fluid_i = v * (math.pi * (r_c**2 - r_t**2))\n",
    "#     print(f'q_fluid_i = {q_fluid_i}')\n",
    "    \n",
    "    fluid_flow_i = FluidFlow(q_fluid_i, wct, pvt_model_data)\n",
    "    fluid_flow_i.calc_flow(p, t)\n",
    "    \n",
    "    rho_liq_i = fluid_flow_i.rl\n",
    "    rho_gas_i = fluid_flow_i.rg\n",
    "    sigma_l_i = fluid_flow_i.stlg\n",
    "#     if not sigma_l_i:\n",
    "#         sigma_l_i = 0.018\n",
    "    q_mix_i = fluid_flow_i.qm\n",
    "    dens_mix_i = fluid_flow_i.rm\n",
    "    mu_mix_i = fluid_flow_i.mum * 10**(-3)\n",
    "#     print(f'rho_liq_i = {rho_liq_i}')\n",
    "#     print(f'rho_gas_i = {rho_gas_i}')\n",
    "#     print(f'sigma_l_i = {sigma_l_i}')\n",
    "#     print(f'q_mix_i = {q_mix_i}')\n",
    "#     print(f'dens_mix_i = {dens_mix_i}')\n",
    "#     print(f'mu_mix_i = {mu_mix_i}')\n",
    "    \n",
    "    v_mix_i = v_S(q_mix_i, r_c, r_t)\n",
    "#     print(f'v_mix_i = {v_mix_i}')\n",
    "\n",
    "    r_e_i = re_number(dens_mix_i, v_mix_i, d_h, mu_mix_i)\n",
    "#     print(f'r_e_i = {r_e_i}')\n",
    "\n",
    "    f_i = find_f(r_e_i, k, 0.8, ann_type=\"con\")\n",
    "#     print(f'f_i = {f_i}')\n",
    "    \n",
    "    v_Sg_i = trans_B(rho_liq_i, rho_gas_i, sigma_l_i, v_mix_i, f_i, d_h)\n",
    "    \n",
    "#     if (v_Sg_i >= 0.01) and not (abs(0 - v) <= 10**(-5)):\n",
    "    v_Sliq_new_for_B.append(v)\n",
    "    v_Sgas_for_B.append(v_Sg_i) \n",
    "#     print(f'v_Sg = {v_Sg_i: .4f}\\n')\n",
    "    \n",
    "print(len(v_Sgas_for_B))\n",
    "\n",
    "i = v_Sgas_for_B.index(min(v_Sgas_for_B))\n",
    "\n",
    "v_Sliq_new_for_B = v_Sliq_new_for_B[i:]\n",
    "v_Sgas_for_B = v_Sgas_for_B[i:]"
   ]
  },
  {
   "cell_type": "markdown",
   "id": "876b4ae4",
   "metadata": {},
   "source": [
    "# Transition C"
   ]
  },
  {
   "cell_type": "code",
   "execution_count": 35,
   "id": "81579927",
   "metadata": {},
   "outputs": [],
   "source": [
    "def trans_C(v_Sl: float, v_s: float) -> float:\n",
    "    # v_Sg = f(v_Sl)\n",
    "    return 1.083*v_Sl + 0.52 * v_s"
   ]
  },
  {
   "cell_type": "markdown",
   "id": "125fba87",
   "metadata": {},
   "source": [
    "### Points for Graph"
   ]
  },
  {
   "cell_type": "code",
   "execution_count": 36,
   "id": "e034d576",
   "metadata": {},
   "outputs": [],
   "source": [
    "v_Sliq = np.arange(0, 100, 1/1000)\n",
    "v_Sliq_for_C = v_Sliq\n",
    "v_Sgas_for_C = trans_C(v_Sliq, v_s(rho_liq, rho_gas, sigma_l))"
   ]
  },
  {
   "cell_type": "markdown",
   "id": "6e9f5533",
   "metadata": {},
   "source": [
    "# Transition D"
   ]
  },
  {
   "cell_type": "code",
   "execution_count": 37,
   "id": "79175276",
   "metadata": {},
   "outputs": [],
   "source": [
    "def trans_D(dens_l: float, dens_g: float, sigma_l: float, g=9.81) -> float:\n",
    "    return 3.1 * (g * sigma_l * (dens_l - dens_g)/(dens_l**2))**(1/4)"
   ]
  },
  {
   "cell_type": "markdown",
   "id": "5268b0c5",
   "metadata": {},
   "source": [
    "### Points for Graph"
   ]
  },
  {
   "cell_type": "code",
   "execution_count": 38,
   "id": "878cb45e",
   "metadata": {},
   "outputs": [],
   "source": [
    "v_Sgas_for_D = [trans_D(rho_liq, rho_gas, sigma_l), trans_D(rho_liq, rho_gas, sigma_l)]\n",
    "v_Sliq_for_D = [0, 100]"
   ]
  },
  {
   "cell_type": "markdown",
   "id": "37bcf876",
   "metadata": {},
   "source": [
    "# Flow pattern Map"
   ]
  },
  {
   "cell_type": "markdown",
   "id": "f63f7850",
   "metadata": {},
   "source": [
    "### Finding intersection points"
   ]
  },
  {
   "cell_type": "code",
   "execution_count": 39,
   "id": "1912e10b",
   "metadata": {},
   "outputs": [],
   "source": [
    "from shapely.geometry import LineString"
   ]
  },
  {
   "cell_type": "code",
   "execution_count": 40,
   "id": "b54d6cd4",
   "metadata": {},
   "outputs": [
    {
     "name": "stdout",
     "output_type": "stream",
     "text": [
      "0.5652526031722375 2.1082419316817314\n",
      "3.738090031597803 3.3599173766787733\n"
     ]
    }
   ],
   "source": [
    "line_B = LineString(np.column_stack((v_Sgas_for_B, v_Sliq_new_for_B)))\n",
    "line_A = LineString(np.column_stack((v_Sgas_for_A, v_Sliq_for_A)))\n",
    "intersection_AB = line_B.intersection(line_A)\n",
    "\n",
    "print(intersection_AB.xy[0][0], intersection_AB.xy[1][0])\n",
    "\n",
    "line_C = LineString(np.column_stack((v_Sgas_for_C, v_Sliq_for_C)))\n",
    "intersection_CB = line_B.intersection(line_C)\n",
    "\n",
    "print(intersection_CB.xy[0][0], intersection_CB.xy[1][0])"
   ]
  },
  {
   "cell_type": "code",
   "execution_count": 41,
   "id": "813ed088",
   "metadata": {},
   "outputs": [
    {
     "name": "stdout",
     "output_type": "stream",
     "text": [
      "0.5651921202518047\n",
      "lim_A = 2108\n"
     ]
    }
   ],
   "source": [
    "val_for_Ag = intersection_AB.xy[0][0]\n",
    "\n",
    "absolute_difference_function_A = lambda list_value : abs(list_value - val_for_Ag)\n",
    "\n",
    "closest_value_for_A = min(list(v_Sgas_for_A), key=absolute_difference_function_A)\n",
    "\n",
    "print(closest_value_for_A)\n",
    "\n",
    "lim_A = list(v_Sgas_for_A).index(closest_value_for_A)\n",
    "\n",
    "print(f'lim_A = {lim_A}')"
   ]
  },
  {
   "cell_type": "code",
   "execution_count": 42,
   "id": "1646e203",
   "metadata": {},
   "outputs": [
    {
     "name": "stdout",
     "output_type": "stream",
     "text": [
      "3.7381795126546917\n",
      "lim_C = 3360\n"
     ]
    }
   ],
   "source": [
    "val_for_Cg = intersection_CB.xy[0][0]\n",
    "\n",
    "absolute_difference_function_C = lambda list_value : abs(list_value - val_for_Cg)\n",
    "\n",
    "closest_value_for_C = min(list(v_Sgas_for_C), key=absolute_difference_function_C)\n",
    "\n",
    "print(closest_value_for_C)\n",
    "\n",
    "lim_C = list(v_Sgas_for_C).index(closest_value_for_C)\n",
    "\n",
    "print(f'lim_C = {lim_C}')"
   ]
  },
  {
   "cell_type": "code",
   "execution_count": 43,
   "id": "e326b6c8",
   "metadata": {},
   "outputs": [
    {
     "name": "stdout",
     "output_type": "stream",
     "text": [
      "3.7426580190785588\n",
      "lim_B = 256\n"
     ]
    }
   ],
   "source": [
    "val_for_Bg = intersection_CB.xy[0][0]\n",
    "\n",
    "absolute_difference_function_B = lambda list_value : abs(list_value - val_for_Bg)\n",
    "\n",
    "closest_value_for_B = min(list(v_Sgas_for_B), key=absolute_difference_function_B)\n",
    "\n",
    "print(closest_value_for_B)\n",
    "\n",
    "lim_B = list(v_Sgas_for_B).index(closest_value_for_B)\n",
    "\n",
    "print(f'lim_B = {lim_B}')"
   ]
  },
  {
   "cell_type": "markdown",
   "id": "f50f0d94",
   "metadata": {},
   "source": [
    "### Flow predictions logic functions"
   ]
  },
  {
   "cell_type": "markdown",
   "id": "566313a7",
   "metadata": {},
   "source": [
    "#### Bubble fow existance"
   ]
  },
  {
   "cell_type": "code",
   "execution_count": 44,
   "id": "51393575",
   "metadata": {},
   "outputs": [
    {
     "name": "stdout",
     "output_type": "stream",
     "text": [
      "the bubble flow pattern region in annuli exists : True\n"
     ]
    }
   ],
   "source": [
    "d_ep = d_cas + d_tub\n",
    "\n",
    "def check_if_bubble_flow(dens_l, dens_g, sigma_l, d_ep, g=9.81) -> bool:\n",
    "    # checks if the bubble flow pattern region in annuli exists\n",
    "    return d_ep >= 19.7 * ((dens_l - dens_g) * sigma_l / (g * dens_l**2))**(1/2)\n",
    "\n",
    "# test\n",
    "print(f'the bubble flow pattern region in annuli exists : {check_if_bubble_flow(rho_liq, rho_gas, sigma_l, d_ep)}')"
   ]
  },
  {
   "cell_type": "markdown",
   "id": "8d2e714e",
   "metadata": {},
   "source": [
    "#### Check if annular flow is present"
   ]
  },
  {
   "cell_type": "code",
   "execution_count": 45,
   "id": "5c825f8a",
   "metadata": {},
   "outputs": [
    {
     "name": "stdout",
     "output_type": "stream",
     "text": [
      "the annular flow pattern region in annuli exists : False\n",
      "the annular flow pattern region in annuli exists : True\n"
     ]
    }
   ],
   "source": [
    "def check_if_annular_flow(v_Sg: float, dens_l: float, dens_g: float, sigma_l: float) -> bool:\n",
    "    return v_Sg >= trans_D(dens_l, dens_g, sigma_l)\n",
    "\n",
    "# test\n",
    "print(f'the annular flow pattern region in annuli exists : {check_if_annular_flow(v_S(q_gas, d_cas/2, d_tub/2), rho_liq, rho_gas, sigma_l)}')\n",
    "print(f'the annular flow pattern region in annuli exists : {check_if_annular_flow(0.4, rho_liq, rho_gas, sigma_l)}')"
   ]
  },
  {
   "cell_type": "markdown",
   "id": "66f829ed",
   "metadata": {},
   "source": [
    "#### Check if dispersed bubble flow"
   ]
  },
  {
   "cell_type": "code",
   "execution_count": 46,
   "id": "b26dedc3",
   "metadata": {},
   "outputs": [
    {
     "name": "stdout",
     "output_type": "stream",
     "text": [
      "the dispersed bubble flow pattern region in annuli exists : False\n"
     ]
    }
   ],
   "source": [
    "def check_if_disp_bubble(v_Sl: float, v_Sg: float, dens_l: float, dens_g: float, sigma_l: float, dens_mix: float,\n",
    "                         mu_mix: float, d_tub: float, d_cas: float, ann_type: str, eccentricity: float) -> bool:\n",
    "    k = d_tub/d_cas\n",
    "    d_h = d_cas - d_tub\n",
    "    v_mix = v_Sl + v_Sg\n",
    "    r_e = re_number(dens_mix, v_mix, d_h, mu_mix)\n",
    "    f = find_f(r_e,  k, eccentricity, ann_type)\n",
    "    v_slip = v_s(dens_l, dens_g, sigma_l)\n",
    "    \n",
    "    # above C trans\n",
    "    above_C = v_Sg <= trans_C(v_Sl, v_slip)\n",
    "    # above B trans\n",
    "    above_B = v_Sg <= trans_B(dens_l, dens_g, sigma_l, v_mix, f, d_h)\n",
    "    return (above_C and above_B)\n",
    "\n",
    "# test\n",
    "v_Sl1_test = v_S(q_fluid, d_cas/2, d_tub/2)\n",
    "v_Sg1_test = v_S(q_gas, d_cas/2, d_tub/2)\n",
    "print(f\"the dispersed bubble flow pattern region in annuli exists : {check_if_disp_bubble(v_Sl1_test, v_Sg1_test, rho_liq, rho_gas, sigma_l, dens_mix, mu_mix, d_tub, d_cas, ann_type='con', eccentricity=0.8)}\")"
   ]
  },
  {
   "cell_type": "markdown",
   "id": "e2419364",
   "metadata": {},
   "source": [
    "#### Check if in bubble fow area"
   ]
  },
  {
   "cell_type": "code",
   "execution_count": 47,
   "id": "56555f7a",
   "metadata": {},
   "outputs": [
    {
     "name": "stdout",
     "output_type": "stream",
     "text": [
      "the dispersed bubble flow pattern region in annuli exists : False\n"
     ]
    }
   ],
   "source": [
    "def check_ifin_bubble(v_Sl: float, v_Sg: float, dens_l: float, dens_g: float, sigma_l: float, dens_mix: float,\n",
    "                      mu_mix: float, d_tub: float, d_cas: float, ann_type: str, eccentricity: float) -> bool:\n",
    "    k = d_tub/d_cas\n",
    "    d_h = d_cas - d_tub\n",
    "    v_mix = v_Sl + v_Sg\n",
    "    r_e = re_number(dens_mix, v_mix, d_h, mu_mix)\n",
    "    f = find_f(r_e,  k, eccentricity, ann_type)\n",
    "    v_slip = v_s(dens_l, dens_g, sigma_l)\n",
    "    \n",
    "    # above A trans\n",
    "    above_A = v_Sg <= trans_A(v_Sl, v_slip)\n",
    "    # below B trans\n",
    "    below_B = v_Sg >= trans_B(dens_l, dens_g, sigma_l, v_mix, f, d_h)\n",
    "    return (above_A and below_B)\n",
    "\n",
    "# test\n",
    "v_Sl2_test = v_S(q_fluid, d_cas/2, d_tub/2)\n",
    "v_Sg2_test = v_S(q_gas, d_cas/2, d_tub/2)\n",
    "print(f\"the dispersed bubble flow pattern region in annuli exists : {check_ifin_bubble(v_Sl2_test, v_Sg2_test, rho_liq, rho_gas, sigma_l, dens_mix, mu_mix, d_tub, d_cas, ann_type='con', eccentricity=0.8)}\")"
   ]
  },
  {
   "cell_type": "markdown",
   "id": "130a4b04",
   "metadata": {},
   "source": [
    "#### Check if slug or chutn flow"
   ]
  },
  {
   "cell_type": "code",
   "execution_count": 48,
   "id": "c0c7e639",
   "metadata": {},
   "outputs": [
    {
     "name": "stdout",
     "output_type": "stream",
     "text": [
      "the slug or chutn flow pattern region in annuli exists : True\n"
     ]
    }
   ],
   "source": [
    "def check_if_slug(v_Sl: float, v_Sg: float, dens_l: float, dens_g: float, sigma_l: float, dens_mix: float,\n",
    "                      mu_mix: float, d_tub: float, d_cas: float, ann_type: str, eccentricity: float,\n",
    "                      v_Sl_CB_inter: float) -> bool:\n",
    "    k = d_tub/d_cas\n",
    "    d_h = d_cas - d_tub\n",
    "    v_mix = v_Sl + v_Sg\n",
    "    r_e = re_number(dens_mix, v_mix, d_h, mu_mix)\n",
    "    f = find_f(r_e,  k, eccentricity, ann_type)\n",
    "    v_slip = v_s(dens_l, dens_g, sigma_l)\n",
    "    if v_Sl < v_Sl_CB_inter:\n",
    "        below_A = v_Sg >= trans_A(v_Sl, v_slip)\n",
    "        below_B = v_Sg >= trans_B(dens_l, dens_g, sigma_l, v_mix, f, d_h)\n",
    "        return (below_A and below_B)\n",
    "    \n",
    "    else:\n",
    "        below_S = v_Sg >= trans_C(v_Sl, v_slip)\n",
    "        return below_S\n",
    "    \n",
    "# test\n",
    "v_Sl3_test = v_S(q_fluid, d_cas/2, d_tub/2)\n",
    "v_Sg3_test = v_S(q_gas, d_cas/2, d_tub/2)\n",
    "print(f\"the slug or chutn flow pattern region in annuli exists : {check_if_slug(v_Sl3_test, v_Sg3_test, rho_liq, rho_gas, sigma_l, dens_mix, mu_mix, d_tub, d_cas, 'con', 0.8, intersection_CB.xy[1][0])}\")"
   ]
  },
  {
   "cell_type": "markdown",
   "id": "8855385c",
   "metadata": {},
   "source": [
    "### Plotting"
   ]
  },
  {
   "cell_type": "code",
   "execution_count": 51,
   "id": "a967c56a",
   "metadata": {},
   "outputs": [
    {
     "data": {
      "image/png": "[encoded data removed]",
      "text/plain": [
       "<Figure size 1008x648 with 1 Axes>"
      ]
     },
     "metadata": {
      "needs_background": "light"
     },
     "output_type": "display_data"
    }
   ],
   "source": [
    "# PLOT\n",
    "plt.figure(figsize=(14,9))\n",
    "\n",
    "# A\n",
    "plt.plot(v_Sgas_for_A[:lim_A], v_Sliq_for_A[:lim_A])\n",
    "# B\n",
    "plt.plot(v_Sgas_for_B[:lim_B], v_Sliq_new_for_B[:lim_B])\n",
    "# C\n",
    "plt.plot(v_Sgas_for_C[lim_C:], v_Sliq_for_C[lim_C:])\n",
    "# D\n",
    "plt.plot(v_Sgas_for_D, v_Sliq_for_D, '--')\n",
    "\n",
    "# test\n",
    "# q = 100\n",
    "plt.scatter(0.11986040573847151, 0.13496805289069724, color='red')\n",
    "# \n",
    "plt.scatter(0.23984240135304072, 0.27007302129346056, color='blue')\n",
    "\n",
    "#\n",
    "# plt.scatter(intersection_AB.xy[0][0], intersection_AB.xy[1][0], color='purple')\n",
    "# plt.plot([inter_AB[0]+inter_AB[1], inter_AB[0]+inter_AB[1]], [0, 100], '--')\n",
    "\n",
    "#\n",
    "# plt.scatter(intersection_CB.xy[0][0], intersection_CB.xy[1][0], color='red')\n",
    "# plt.plot([inter_CB[0]+inter_CB[1], inter_CB[0]+inter_CB[1]], [0, 100], '--')\n",
    "\n",
    "plt.legend(['$Transition$ $A$', '$Transition$ $B$','$Transition$ $C$', '$Transition$ $D$'], fontsize=12)\n",
    "plt.xlabel('superficial GAS velocity, $m$/$s$', fontsize=14)\n",
    "plt.xscale('log')\n",
    "plt.ylabel('superficial LIQUID velocity, $m$/$s$', fontsize=14)\n",
    "plt.yscale('log')\n",
    "\n",
    "plt.tick_params(axis='both', which='major', labelsize=12)\n",
    "\n",
    "plt.grid(which='both', linewidth=0.3)\n",
    "\n",
    "plt.ylim([0.001, 100])\n",
    "plt.xlim([0.01, 100])\n",
    "plt.show()"
   ]
  },
  {
   "cell_type": "code",
   "execution_count": null,
   "id": "a0b9e24c",
   "metadata": {},
   "outputs": [],
   "source": []
  }
 ],
 "metadata": {
  "kernelspec": {
   "display_name": "Python 3 (ipykernel)",
   "language": "python",
   "name": "python3"
  },
  "language_info": {
   "codemirror_mode": {
    "name": "ipython",
    "version": 3
   },
   "file_extension": ".py",
   "mimetype": "text/x-python",
   "name": "python",
   "nbconvert_exporter": "python",
   "pygments_lexer": "ipython3",
   "version": "3.9.7"
  }
 },
 "nbformat": 4,
 "nbformat_minor": 5
}
